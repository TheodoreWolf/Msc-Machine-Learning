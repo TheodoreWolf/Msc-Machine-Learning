{
 "cells": [
  {
   "cell_type": "code",
   "execution_count": 30,
   "id": "b75124fd",
   "metadata": {},
   "outputs": [],
   "source": [
    "import numpy as np\n",
    "import matplotlib.pyplot as plt"
   ]
  },
  {
   "cell_type": "code",
   "execution_count": 24,
   "id": "70371584",
   "metadata": {},
   "outputs": [],
   "source": [
    "X = np.array([-1, 1, 2])\n",
    "Y = np.array([5, 5, 8])\n",
    "Xtest = np.array([-2, 0])\n",
    "Ytest = np.array([8, 4])"
   ]
  },
  {
   "cell_type": "code",
   "execution_count": 25,
   "id": "4409df2b",
   "metadata": {},
   "outputs": [],
   "source": [
    "def kernel(x, z):\n",
    "    x = x.reshape(1,-1)\n",
    "    z = z.reshape(-1,1)\n",
    "    return (z*x +1)**2"
   ]
  },
  {
   "cell_type": "code",
   "execution_count": 26,
   "id": "d55b419f",
   "metadata": {},
   "outputs": [],
   "source": [
    "K = kernel(X,X)\n",
    "A = kernel(X, Xtest)\n",
    "D = kernel(Xtest, Xtest)"
   ]
  },
  {
   "cell_type": "code",
   "execution_count": 27,
   "id": "2bc93c38",
   "metadata": {},
   "outputs": [],
   "source": [
    "post_mean = A@np.linalg.inv(K)@Y\n",
    "post_cov = D - A@np.linalg.inv(K)@A.T"
   ]
  },
  {
   "cell_type": "code",
   "execution_count": 28,
   "id": "09f1b538",
   "metadata": {},
   "outputs": [
    {
     "data": {
      "text/plain": [
       "array([8., 4.])"
      ]
     },
     "execution_count": 28,
     "metadata": {},
     "output_type": "execute_result"
    }
   ],
   "source": [
    "post_mean"
   ]
  },
  {
   "cell_type": "code",
   "execution_count": 29,
   "id": "067a90ff",
   "metadata": {
    "scrolled": true
   },
   "outputs": [
    {
     "data": {
      "text/plain": [
       "array([[0.0000000e+00, 0.0000000e+00],\n",
       "       [4.4408921e-16, 0.0000000e+00]])"
      ]
     },
     "execution_count": 29,
     "metadata": {},
     "output_type": "execute_result"
    }
   ],
   "source": [
    "post_cov"
   ]
  },
  {
   "cell_type": "code",
   "execution_count": 46,
   "id": "763cc553",
   "metadata": {},
   "outputs": [
    {
     "data": {
      "text/plain": [
       "<matplotlib.image.AxesImage at 0x1ef5d1aaf40>"
      ]
     },
     "execution_count": 46,
     "metadata": {},
     "output_type": "execute_result"
    },
    {
     "data": {
      "image/png": "[encoded data removed]",
      "text/plain": [
       "<Figure size 432x288 with 1 Axes>"
      ]
     },
     "metadata": {
      "needs_background": "light"
     },
     "output_type": "display_data"
    }
   ],
   "source": [
    "x1 = np.linspace(-10, 10, 1000).reshape(-1,1)\n",
    "x2 = np.linspace(-10, 10, 1000).reshape(1,-1)\n",
    "z = np.zeros((1000,1000))\n",
    "results = 1/(1+np.exp(-np.maximum(z, x1-x2) - np.maximum(z,-x1-x2)+2))\n",
    "plt.imshow(results)"
   ]
  },
  {
   "cell_type": "code",
   "execution_count": null,
   "id": "9e34632b",
   "metadata": {},
   "outputs": [],
   "source": []
  }
 ],
 "metadata": {
  "kernelspec": {
   "display_name": "Python 3 (ipykernel)",
   "language": "python",
   "name": "python3"
  },
  "language_info": {
   "codemirror_mode": {
    "name": "ipython",
    "version": 3
   },
   "file_extension": ".py",
   "mimetype": "text/x-python",
   "name": "python",
   "nbconvert_exporter": "python",
   "pygments_lexer": "ipython3",
   "version": "3.8.12"
  }
 },
 "nbformat": 4,
 "nbformat_minor": 5
}
