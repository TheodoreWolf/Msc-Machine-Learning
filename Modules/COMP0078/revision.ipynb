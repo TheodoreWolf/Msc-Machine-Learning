{
 "cells": [
  {
   "cell_type": "code",
   "execution_count": 1,
   "id": "cb5eace8",
   "metadata": {},
   "outputs": [],
   "source": [
    "import numpy as np\n",
    "import matplotlib.pyplot as plt"
   ]
  },
  {
   "cell_type": "code",
   "execution_count": 2,
   "id": "203a4392",
   "metadata": {},
   "outputs": [],
   "source": [
    "X = np.random.choice(2, (100,1000))\n",
    "X = X.astype(dtype=np.float64)\n",
    "y = np.zeros(X.shape[0])\n",
    "for i in range(X.shape[0]):\n",
    "    y[i] = 1 if  np.sum(np.sin(2*np.cos(3*np.sin(X[i,:])))) > -40 else 0"
   ]
  },
  {
   "cell_type": "code",
   "execution_count": 5,
   "id": "42eff49b",
   "metadata": {},
   "outputs": [
    {
     "data": {
      "text/plain": [
       "array([[1.07150861e+301, 8.78694100e+158, 3.43239883e+156, ...,\n",
       "        8.18347652e+149, 9.98959536e+145, 6.24349710e+144],\n",
       "       [8.78694100e+158, 1.07150861e+301, 5.49183813e+157, ...,\n",
       "        8.18347652e+149, 1.75738820e+159, 4.18993998e+152],\n",
       "       [3.43239883e+156, 5.49183813e+157, 1.07150861e+301, ...,\n",
       "        8.78694100e+158, 3.99583814e+146, 4.29049854e+155],\n",
       "       ...,\n",
       "       [8.18347652e+149, 8.18347652e+149, 8.78694100e+158, ...,\n",
       "        1.07150861e+301, 2.74591906e+157, 4.09173826e+149],\n",
       "       [9.98959536e+145, 1.75738820e+159, 3.99583814e+146, ...,\n",
       "        2.74591906e+157, 1.07150861e+301, 2.04586913e+149],\n",
       "       [6.24349710e+144, 4.18993998e+152, 4.29049854e+155, ...,\n",
       "        4.09173826e+149, 2.04586913e+149, 1.07150861e+301]])"
      ]
     },
     "execution_count": 5,
     "metadata": {},
     "output_type": "execute_result"
    }
   ],
   "source": [
    "def kernel(x,t):\n",
    "    K = np.ones((x.shape[0], t.shape[0]))\n",
    "    for i in range(x.shape[0]):\n",
    "        for j in range(t.shape[0]):\n",
    "            temp = np.sum(x[i,:] == t[j,:])\n",
    "            K[i,j] = 2 **int(temp)\n",
    "    return K\n",
    "def kernel2(x, t):\n",
    "    K = np.ones((x.shape[0], t.shape[0]))\n",
    "    for i in range(x.shape[0]):\n",
    "        for j in range(t.shape[0]):\n",
    "            K[i,j] = np.prod(1+x[i,:]*t[j,:]+(1-t[j,:])*(1-x[i,:]))\n",
    "    \n",
    "    return K\n",
    "K = kernel(X, X)\n",
    "kernel2(X,X)"
   ]
  },
  {
   "cell_type": "code",
   "execution_count": 6,
   "id": "cade2917",
   "metadata": {},
   "outputs": [],
   "source": [
    "alpha = np.linalg.pinv(K) @ y"
   ]
  },
  {
   "cell_type": "code",
   "execution_count": 7,
   "id": "99b52fc7",
   "metadata": {
    "scrolled": true
   },
   "outputs": [
    {
     "data": {
      "text/plain": [
       "1.0852298744277968e-28"
      ]
     },
     "execution_count": 7,
     "metadata": {},
     "output_type": "execute_result"
    }
   ],
   "source": [
    "np.sum((alpha@K-y)**2)"
   ]
  },
  {
   "cell_type": "code",
   "execution_count": 8,
   "id": "08f408f0",
   "metadata": {},
   "outputs": [
    {
     "data": {
      "text/plain": [
       "9.483155786646309e-27"
      ]
     },
     "execution_count": 8,
     "metadata": {},
     "output_type": "execute_result"
    }
   ],
   "source": [
    "X = np.random.choice(100, (100,10))\n",
    "y = np.random.rand(100,)\n",
    "\n",
    "K = np.random.rand(100,100)\n",
    "K = (K+K.T)/2\n",
    "alpha = np.linalg.inv(K) @ y\n",
    "np.sum((alpha@K-y)**2)"
   ]
  },
  {
   "cell_type": "code",
   "execution_count": 9,
   "id": "5051b95d",
   "metadata": {
    "scrolled": true
   },
   "outputs": [],
   "source": [
    "def onedkernel(x, t):\n",
    "    x = x.reshape(-1,1)\n",
    "    t = t.reshape(1,-1)\n",
    "    kernel = (1+x*t + (1-x)*(1-t))\n",
    "    return kernel"
   ]
  },
  {
   "cell_type": "code",
   "execution_count": 15,
   "id": "34bc4ff9",
   "metadata": {},
   "outputs": [
    {
     "data": {
      "text/plain": [
       "array([[ 2,  0, -1],\n",
       "       [ 0,  6,  9],\n",
       "       [-1,  9, 14]])"
      ]
     },
     "execution_count": 15,
     "metadata": {},
     "output_type": "execute_result"
    }
   ],
   "source": [
    "x = np.array([0,2, 3])\n",
    "onedkernel(x,x)"
   ]
  },
  {
   "cell_type": "code",
   "execution_count": 16,
   "id": "0386e8c2",
   "metadata": {},
   "outputs": [
    {
     "data": {
      "text/plain": [
       "0.0"
      ]
     },
     "execution_count": 16,
     "metadata": {},
     "output_type": "execute_result"
    }
   ],
   "source": [
    "np.linalg.det(onedkernel(x,x))"
   ]
  },
  {
   "cell_type": "code",
   "execution_count": null,
   "id": "53f64893",
   "metadata": {},
   "outputs": [],
   "source": []
  }
 ],
 "metadata": {
  "kernelspec": {
   "display_name": "Python 3 (ipykernel)",
   "language": "python",
   "name": "python3"
  },
  "language_info": {
   "codemirror_mode": {
    "name": "ipython",
    "version": 3
   },
   "file_extension": ".py",
   "mimetype": "text/x-python",
   "name": "python",
   "nbconvert_exporter": "python",
   "pygments_lexer": "ipython3",
   "version": "3.8.12"
  }
 },
 "nbformat": 4,
 "nbformat_minor": 5
}
