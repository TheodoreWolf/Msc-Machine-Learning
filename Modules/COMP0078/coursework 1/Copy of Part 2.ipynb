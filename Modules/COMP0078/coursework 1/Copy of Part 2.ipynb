{
 "cells": [
  {
   "cell_type": "markdown",
   "metadata": {
    "id": "zvW7vZIM0RlO"
   },
   "source": [
    "# Coursework 1 Section 2"
   ]
  },
  {
   "cell_type": "markdown",
   "metadata": {
    "id": "1EhmgX1J0ba9"
   },
   "source": [
    "## Imports and initial class and function definitions for later use:"
   ]
  },
  {
   "cell_type": "code",
   "execution_count": 1,
   "metadata": {
    "id": "25mQMISdGFVo"
   },
   "outputs": [],
   "source": [
    "import numpy as np\n",
    "from matplotlib import pyplot as plt\n",
    "import pandas as pd\n",
    "from tqdm import tqdm"
   ]
  },
  {
   "cell_type": "code",
   "execution_count": 2,
   "metadata": {
    "id": "nYO-u3fLH7Ds"
   },
   "outputs": [],
   "source": [
    "# define a class h_sv, with inputs v, s\n",
    "# v is number nearest neighbours, s is number of data points generated\n",
    "# use the method .function(x) to output the assigned class of a test point\n",
    "# x, which should be a 2 by 1 numpy array\n",
    "# you must run train first before it's useful\n",
    "\n",
    "class h_sv:\n",
    "\n",
    "    def __init__(self,v,s):\n",
    "        self.v = v\n",
    "        self.s = s\n",
    "\n",
    "    def train(self):\n",
    "\n",
    "    # first generate s random centres with random labels\n",
    "\n",
    "        self.features = pd.DataFrame()\n",
    "        self.features['x'] = [np.random.random_sample() for i in range(self.s)]\n",
    "        self.features['y'] = [np.random.random_sample() for i in range(self.s)]\n",
    "        self.features['class'] = [np.random.randint(0,2) for i in range(self.s)]\n",
    "\n",
    "    # now split the dataframe based on label\n",
    "\n",
    "        self.zeros = self.features[self.features['class'] == 0]\n",
    "        self.ones = self.features[self.features['class'] == 1]\n",
    "\n",
    "    # now define the function that outputs the class of a test point\n",
    "\n",
    "    def function(self, test):\n",
    "\n",
    "        # create a dataframe with the squared distances of each point to the test point\n",
    "        self.distances = pd.DataFrame()\n",
    "        self.distances['dist'] = (self.features['x']-test[0])**2 + (self.features['y']-test[1])**2\n",
    "        self.distances['class'] = self.features['class']\n",
    "\n",
    "        # create an array with the classes of the closest v neighbours\n",
    "\n",
    "        self.min_distance_class = np.zeros([self.v])\n",
    "\n",
    "        for i in range(self.v):\n",
    "            index = self.distances['dist'].idxmin()\n",
    "            self.min_distance_class[i] = self.distances['class'][index]\n",
    "            self.distances.drop(index)\n",
    "        \n",
    "        # now find the mean class label of the first v classes:\n",
    "\n",
    "        self.mean = self.min_distance_class.sum()/self.v\n",
    "\n",
    "        # now output class prediction:\n",
    "\n",
    "        if self.mean > 0.5:\n",
    "            return 1\n",
    "        \n",
    "        elif self.mean < 0.5:\n",
    "            return 0\n",
    "\n",
    "        # output either 1 or 0 randomly in the undefined class case\n",
    "        else:\n",
    "            return np.random.binomial(1,0.5)"
   ]
  },
  {
   "cell_type": "code",
   "execution_count": 3,
   "metadata": {
    "id": "1tVM8B4d6YP3"
   },
   "outputs": [],
   "source": [
    "# define a class generator, with inputs (N,p)\n",
    "# this class takes a random h_sv with parameters (3,100),\n",
    "# calculates the random decision regions for this h_sv\n",
    "# and generates N samples based on these decision regions,\n",
    "# but only assigns the correct class a fraction p of the time,\n",
    "# the rest of the time it assigns the class with a 50/50 probability\n",
    "\n",
    "# you must run .generate() first before it's useful\n",
    "# this outputs a dataframe with coordinates and labels\n",
    "# which can be accessed using .features\n",
    "\n",
    "class generator:\n",
    "    def __init__(self,N,p):\n",
    "        self.N = N\n",
    "        self.p = p\n",
    "        self.h_sv = h_sv(3,100)\n",
    "        self.h_sv.train()\n",
    "    \n",
    "    def generate(self):\n",
    "\n",
    "        # generate N random points\n",
    "        self.features = pd.DataFrame()\n",
    "        self.features['x'] = [np.random.random_sample() for i in range(self.N)]\n",
    "        self.features['y'] = [np.random.random_sample() for i in range(self.N)]\n",
    "\n",
    "        # for each datapoint, do a coin toss with p=0.8 success\n",
    "        # if successful, use correct class from hsv\n",
    "        # if wrong, randomly generate class\n",
    "\n",
    "        self.classlist = []\n",
    "\n",
    "        for i in range(self.N):\n",
    "\n",
    "            if np.random.binomial(1,0.8) == 1:\n",
    "                output = self.h_sv.function([self.features['x'][i],self.features['y'][i]])\n",
    "                self.classlist.append(output)\n",
    "\n",
    "            else:\n",
    "                self.classlist.append(np.random.randint(0,2))\n",
    "\n",
    "        self.features['class'] = self.classlist"
   ]
  },
  {
   "cell_type": "code",
   "execution_count": 4,
   "metadata": {
    "id": "C-yTZ3hE9efL"
   },
   "outputs": [],
   "source": [
    "# define a class knn with inputs k, and a dataframe containing\n",
    "# the features and labels for the training data,\n",
    "# and has a function method that outputs the\n",
    "# predicted class label for a given test point\n",
    "# the input dataframe must have columns 'x', 'y', and 'class'\n",
    "# it also has a function returning the generalised error for a test set\n",
    "# which must also be input as a dataframe\n",
    "\n",
    "class knn:\n",
    "    def __init__(self,k,df):\n",
    "        self.k = k\n",
    "        self.df = df\n",
    "\n",
    "    def function(self, point):\n",
    "\n",
    "        # create a dataframe with the squared distances of each point to the test point\n",
    "        self.distances = pd.DataFrame()\n",
    "        self.distances['dist'] = (self.df['x']-point[0])**2 + (self.df['y']-point[1])**2\n",
    "        self.distances['class'] = self.df['class']\n",
    "\n",
    "        # create an array with the classes of the closest k neighbours\n",
    "\n",
    "        self.min_distance_class = np.zeros([self.k])\n",
    "\n",
    "        for i in range(self.k):\n",
    "            index = self.distances['dist'].idxmin()\n",
    "            self.min_distance_class[i] = self.distances['class'][index]\n",
    "            self.distances.drop(index)\n",
    "\n",
    "        # now find the mean class label of the first k classes:\n",
    "\n",
    "        self.mean = self.min_distance_class.sum()/self.k\n",
    "\n",
    "        \n",
    "        # now output class prediction:\n",
    "\n",
    "        if self.mean > 0.5:\n",
    "            return 1\n",
    "        \n",
    "        elif self.mean < 0.5:\n",
    "            return 0\n",
    "\n",
    "        # output either 1 or 0 randomly in the undefined class case\n",
    "        else:\n",
    "            return np.random.binomial(1,0.5)\n",
    "\n",
    "    # create a .generalisation_error() function which takes in a\n",
    "    # dataframe of test points, runs .function() on each point\n",
    "    # and calculates the average error\n",
    "    def generalisation_error(self, test):\n",
    "        self.error = 0\n",
    "        length = len(test.index)\n",
    "        for i in range(length):\n",
    "            if test['class'][i] != self.function([test['x'][i],test['y'][i]]):\n",
    "                self.error += 1\n",
    "        self.error = self.error / length\n",
    "        return self.error"
   ]
  },
  {
   "cell_type": "code",
   "execution_count": 5,
   "metadata": {
    "id": "NjTAeGgfY4T9"
   },
   "outputs": [],
   "source": [
    "# define a function that takes inputs k, m,\n",
    "# that generates m + 1000 random points\n",
    "# from a random instantiation of our generator,\n",
    "# then splits this into 1000 test points and m training points.\n",
    "# note it doesn't need to do a test - train shuffle as they are random anyway.\n",
    "# then it does knn on this training data and calculates the \n",
    "# generalisation error on 1000 test points and returns this error.\n",
    "\n",
    "def run(k,m):\n",
    "\n",
    "    # generate training and test data\n",
    "    data = generator(m + 1000, 0.8)\n",
    "    data.generate()\n",
    "    training_data = data.features[:m].copy()\n",
    "    test_data = data.features[m:m+1000].copy()\n",
    "    test_data.index = np.arange(0,1000)\n",
    "\n",
    "    # create a knn class with the training data\n",
    "    # and calculate the training error and test error\n",
    "    nearest = knn(k,training_data)\n",
    "    return nearest.generalisation_error(test_data)"
   ]
  },
  {
   "cell_type": "markdown",
   "metadata": {
    "id": "tnCX7d_tyojG"
   },
   "source": [
    "## 6. Produce a visualisation of an h_sv"
   ]
  },
  {
   "cell_type": "code",
   "execution_count": 6,
   "metadata": {
    "colab": {
     "base_uri": "https://localhost:8080/",
     "height": 269
    },
    "executionInfo": {
     "elapsed": 50194,
     "status": "ok",
     "timestamp": 1635884859431,
     "user": {
      "displayName": "Rory Bedford",
      "photoUrl": "https://lh3.googleusercontent.com/a-/AOh14Gj7Qr5ro3bY5gIOuTVYxclMFcES7WyYTuMCSdy25A=s64",
      "userId": "14651869103966976049"
     },
     "user_tz": 0
    },
    "id": "oSSO1nR-S4Ch",
    "outputId": "11823751-fd91-496b-a5e7-911ebd9fe002"
   },
   "outputs": [
    {
     "data": {
      "image/png": "[encoded data removed]",
      "text/plain": [
       "<Figure size 432x288 with 1 Axes>"
      ]
     },
     "metadata": {
      "needs_background": "light"
     },
     "output_type": "display_data"
    }
   ],
   "source": [
    "# instantiate an instance of h_sv\n",
    "\n",
    "example_h_sv = h_sv(3,100)\n",
    "example_h_sv.train()\n",
    "\n",
    "# plot the shaded areas based on the classification of points\n",
    "num = 100 \n",
    "\n",
    "x, y = np.linspace(0,1,num), np.linspace(0,1,num)\n",
    "xx, yy = np.meshgrid(x, y)\n",
    "outputs = np.array([[example_h_sv.function(np.array([x[i],y[j]])) for i in range(num)] for j in range(num)])\n",
    "plt.figure(1)\n",
    "plt.contourf(xx, yy, outputs, levels=[-0.5,0.5])\n",
    "\n",
    "# plot a scatter graph of random points\n",
    "\n",
    "plt.scatter(example_h_sv.zeros['x'], example_h_sv.zeros['y'], label = '0', c = 'blue')\n",
    "plt.scatter(example_h_sv.ones['x'], example_h_sv.ones['y'], label = '1', c = 'orange')\n",
    "\n",
    "plt.legend()\n",
    "plt.show()\n",
    "plt.close()"
   ]
  },
  {
   "cell_type": "markdown",
   "metadata": {
    "id": "SvPd0EHVy8IE"
   },
   "source": [
    "## 7. Estimate the generalisation error as a function of k"
   ]
  },
  {
   "cell_type": "code",
   "execution_count": 7,
   "metadata": {
    "colab": {
     "background_save": true
    },
    "id": "VfopGiYsa1Da"
   },
   "outputs": [],
   "source": [
    "# run the function 100 times for k = 1:49 and m = 4000\n",
    "errors = []\n",
    "for a in range(49):\n",
    "    error = 0\n",
    "    for b in range(2): # change this to 100\n",
    "        error += run(a+1, 4000)\n",
    "    error /= 2 # change to 100\n",
    "    errors.append(error)"
   ]
  },
  {
   "cell_type": "code",
   "execution_count": 8,
   "metadata": {
    "colab": {
     "background_save": true
    },
    "id": "CBAuI_XLtpty",
    "outputId": "9501e2df-79bc-4799-8a13-ce3b86aeba74"
   },
   "outputs": [
    {
     "data": {
      "image/png": "[encoded data removed]",
      "text/plain": [
       "<Figure size 432x288 with 1 Axes>"
      ]
     },
     "metadata": {
      "needs_background": "light"
     },
     "output_type": "display_data"
    }
   ],
   "source": [
    "# now plot the above errors\n",
    "\n",
    "plt.figure(2)\n",
    "plt.plot(np.arange(1,50), errors)\n",
    "plt.xlabel('k')\n",
    "plt.ylabel('error')\n",
    "plt.title('generalisation error')\n",
    "plt.show()\n",
    "plt.close()"
   ]
  },
  {
   "cell_type": "markdown",
   "metadata": {
    "id": "c_1On3nP2b6M"
   },
   "source": [
    "## 8. Determine the optimal k as a function of the number of training points"
   ]
  },
  {
   "cell_type": "code",
   "execution_count": 9,
   "metadata": {
    "id": "4owgqi8iyXpl"
   },
   "outputs": [],
   "source": [
    "# calculate the optimal value of k using protocol B\n",
    "\n",
    "listm = [100,500,1000,1500,2000,2500,3000,3500,4000]\n",
    "avg_optimal_k_list = []\n",
    "\n",
    "# run for each m in the above list\n",
    "for m in listm:\n",
    "    avg_optimal_k = 0\n",
    "\n",
    "    # run 100 times\n",
    "    for b in range(2):\n",
    "        newerrors = []\n",
    "\n",
    "        # run for each k\n",
    "        for c in range(49):\n",
    "            newerrors.append(run(c+1, m))\n",
    "\n",
    "        # find the value of k that minimised the generalisation error\n",
    "        optimal_k = newerrors.index(min(newerrors)) + 1\n",
    "        avg_optimal_k += optimal_k\n",
    "\n",
    "    avg_optimal_k /= 2 # change to 100\n",
    "    avg_optimal_k_list.append(avg_optimal_k)"
   ]
  },
  {
   "cell_type": "code",
   "execution_count": 10,
   "metadata": {
    "id": "UyqJBXmU6RGk"
   },
   "outputs": [
    {
     "data": {
      "image/png": "[encoded data removed]",
      "text/plain": [
       "<Figure size 432x288 with 1 Axes>"
      ]
     },
     "metadata": {
      "needs_background": "light"
     },
     "output_type": "display_data"
    }
   ],
   "source": [
    "# plot the results for optimal k vs m\n",
    "\n",
    "plt.figure(3)\n",
    "plt.plot(listm, avg_optimal_k_list)\n",
    "plt.xlabel('training data size')\n",
    "plt.ylabel('k')\n",
    "plt.title('optimal k vs size of training data')\n",
    "plt.show()\n",
    "plt.close()"
   ]
  },
  {
   "cell_type": "code",
   "execution_count": null,
   "metadata": {},
   "outputs": [],
   "source": []
  }
 ],
 "metadata": {
  "colab": {
   "collapsed_sections": [],
   "name": "Copy of Part 2.ipynb",
   "provenance": [
    {
     "file_id": "1YSgVEIauaHm3v8MGnI1NZHYg5Y_sfkeo",
     "timestamp": 1635937082542
    }
   ]
  },
  "kernelspec": {
   "display_name": "Python 3 (ipykernel)",
   "language": "python",
   "name": "python3"
  },
  "language_info": {
   "codemirror_mode": {
    "name": "ipython",
    "version": 3
   },
   "file_extension": ".py",
   "mimetype": "text/x-python",
   "name": "python",
   "nbconvert_exporter": "python",
   "pygments_lexer": "ipython3",
   "version": "3.8.12"
  }
 },
 "nbformat": 4,
 "nbformat_minor": 1
}
