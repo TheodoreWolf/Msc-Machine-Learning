{
 "cells": [
  {
   "cell_type": "markdown",
   "id": "18e313b4",
   "metadata": {},
   "source": [
    "# PART 1"
   ]
  },
  {
   "cell_type": "markdown",
   "id": "e9770f19",
   "metadata": {},
   "source": [
    "## 1.1 Kernel perceptron"
   ]
  },
  {
   "cell_type": "code",
   "execution_count": 2,
   "id": "1f7ed15a",
   "metadata": {},
   "outputs": [],
   "source": [
    "import numpy as np\n",
    "import matplotlib.pyplot as plt\n",
    "\n",
    "zipcombo = np.loadtxt(\"zipcombo.dat\")\n",
    "dtrain123 = np.loadtxt(\"dtrain123.dat\")\n",
    "dtest123 = np.loadtxt(\"dtest123.dat\")"
   ]
  },
  {
   "cell_type": "markdown",
   "id": "a7ebb90c",
   "metadata": {},
   "source": [
    "### 1.1.1"
   ]
  },
  {
   "cell_type": "code",
   "execution_count": 102,
   "id": "71f067e6",
   "metadata": {},
   "outputs": [],
   "source": [
    "class epoch:\n",
    "    \n",
    "    def __init__(self, features, labels, classes):\n",
    "        \n",
    "        self.features = features\n",
    "        \n",
    "        self.labels = labels\n",
    "        \n",
    "        self.kernel = np.array([])\n",
    "                \n",
    "        self.alpha = np.zeros((features.shape[0], classes))\n",
    "               \n",
    "        self.y_pred = np.zeros((features.shape[0], classes))\n",
    "        \n",
    "    def prediction(self):\n",
    "        \n",
    "        self.y_pred = np.sign(self.alpha.T @ self.kernel).T\n",
    "        \n",
    "        return self.y_pred\n",
    "    \n",
    "    def update(self):\n",
    "        \n",
    "        self.alpha = self.y_pred - self.labels\n",
    "        \n",
    "        for n in range(self.alpha.shape[0]):\n",
    "            if not all(self.alpha[n,:]):\n",
    "                self.alpha[n,:] = self.labels[n,:]\n",
    "        \n",
    "    def poly_kernel(self, d):\n",
    "        \n",
    "        self.kernel = (self.features @ self.features.T) ** d\n",
    "        \n",
    "        return self.kernel\n",
    "        \n",
    "    def gauss_kernel(self):\n",
    "        pass\n",
    "        "
   ]
  },
  {
   "cell_type": "code",
   "execution_count": 103,
   "id": "242dc31a",
   "metadata": {},
   "outputs": [],
   "source": [
    "# Question 1.1\n",
    "classes = 3\n",
    "features = dtrain123[:40, 1:]\n",
    "\n",
    "# we convert to 1-hot encoding\n",
    "labels_int = dtrain123[:40, 0]\n",
    "\n",
    "labels = np.zeros((labels_int.shape[0], classes))\n",
    "for index in range(labels_int.shape[0]):\n",
    "    label = int(labels_int[index])-1\n",
    "    labels[index, label] = 1\n",
    "\n",
    "e = epoch(features, labels, classes)"
   ]
  },
  {
   "cell_type": "code",
   "execution_count": 104,
   "id": "f573a34e",
   "metadata": {},
   "outputs": [],
   "source": [
    "e.poly_kernel(3)\n",
    "y = e.prediction()"
   ]
  },
  {
   "cell_type": "code",
   "execution_count": 105,
   "id": "db846147",
   "metadata": {},
   "outputs": [],
   "source": [
    "e.update()"
   ]
  },
  {
   "cell_type": "code",
   "execution_count": 107,
   "id": "6f664786",
   "metadata": {},
   "outputs": [],
   "source": [
    "a = e.alpha"
   ]
  }
 ],
 "metadata": {
  "kernelspec": {
   "display_name": "Python 3 (ipykernel)",
   "language": "python",
   "name": "python3"
  },
  "language_info": {
   "codemirror_mode": {
    "name": "ipython",
    "version": 3
   },
   "file_extension": ".py",
   "mimetype": "text/x-python",
   "name": "python",
   "nbconvert_exporter": "python",
   "pygments_lexer": "ipython3",
   "version": "3.8.12"
  }
 },
 "nbformat": 4,
 "nbformat_minor": 5
}
