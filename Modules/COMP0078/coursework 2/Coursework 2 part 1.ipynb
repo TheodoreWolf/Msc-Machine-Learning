{
 "cells": [
  {
   "cell_type": "markdown",
   "id": "18e313b4",
   "metadata": {},
   "source": [
    "# PART 1"
   ]
  },
  {
   "cell_type": "markdown",
   "id": "e9770f19",
   "metadata": {},
   "source": [
    "## 1.1 Kernel perceptron"
   ]
  },
  {
   "cell_type": "code",
   "execution_count": 12,
   "id": "1f7ed15a",
   "metadata": {},
   "outputs": [],
   "source": [
    "import numpy as np\n",
    "import matplotlib.pyplot as plt\n",
    "\n",
    "zipcombo = np.loadtxt(\"zipcombo.dat\")\n",
    "dtrain123 = np.loadtxt(\"dtrain123.dat\")\n",
    "dtest123 = np.loadtxt(\"dtest123.dat\")"
   ]
  },
  {
   "cell_type": "code",
   "execution_count": 18,
   "id": "319865c6",
   "metadata": {},
   "outputs": [
    {
     "data": {
      "text/plain": [
       "(329, 257)"
      ]
     },
     "execution_count": 18,
     "metadata": {},
     "output_type": "execute_result"
    }
   ],
   "source": []
  },
  {
   "cell_type": "markdown",
   "id": "a7ebb90c",
   "metadata": {},
   "source": [
    "### 1.1.1"
   ]
  },
  {
   "cell_type": "code",
   "execution_count": null,
   "id": "71f067e6",
   "metadata": {},
   "outputs": [],
   "source": [
    "class epoch:\n",
    "    \n",
    "    def __init__(self, features, labels):\n",
    "        \n",
    "        self.features = features\n",
    "        self.labels = labels\n",
    "        self.weights = np.zeros(features.shape[0], 256)\n",
    "        self.alpha = np.zeros(features.shape[0], 1)\n",
    "        self.y_pred = np.zeros(features.shape[0], 1)\n",
    "        \n",
    "    def prediction(self):\n",
    "        \n",
    "        self.y_pred = np.sign(self.alpha @ self.kernel)\n",
    "        \n",
    "    def update(self):\n",
    "        self.alpha = self.y_pred - self.labels\n",
    "        for n in range(len(self.alpha)):\n",
    "            if self.alpha[n] != 0:\n",
    "                self.alpha[n] = self.labels[n]\n",
    "    \n",
    "        \n",
    "        \n",
    "        \n",
    "    def poly_kernel(self,d):\n",
    "    \n",
    "    def gauss_kernel(self):\n",
    "    \n",
    "        "
   ]
  },
  {
   "cell_type": "code",
   "execution_count": null,
   "id": "242dc31a",
   "metadata": {},
   "outputs": [],
   "source": [
    "# Question 1.1\n",
    "for d in range(1,8):\n",
    "    "
   ]
  }
 ],
 "metadata": {
  "kernelspec": {
   "display_name": "Python 3 (ipykernel)",
   "language": "python",
   "name": "python3"
  },
  "language_info": {
   "codemirror_mode": {
    "name": "ipython",
    "version": 3
   },
   "file_extension": ".py",
   "mimetype": "text/x-python",
   "name": "python",
   "nbconvert_exporter": "python",
   "pygments_lexer": "ipython3",
   "version": "3.8.12"
  }
 },
 "nbformat": 4,
 "nbformat_minor": 5
}
