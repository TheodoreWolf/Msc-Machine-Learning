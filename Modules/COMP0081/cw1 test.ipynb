{
 "cells": [
  {
   "cell_type": "code",
   "execution_count": 1,
   "id": "238e00d9",
   "metadata": {},
   "outputs": [],
   "source": [
    "import numpy as np"
   ]
  },
  {
   "cell_type": "code",
   "execution_count": 10,
   "id": "1fa90a57",
   "metadata": {},
   "outputs": [],
   "source": [
    "N =300"
   ]
  },
  {
   "cell_type": "code",
   "execution_count": 21,
   "id": "8ed93d6f",
   "metadata": {},
   "outputs": [],
   "source": [
    "r = np.linspace(1,2*np.pi, N)\n",
    "xTr1 = np.array([np.sin(2.*r)*r, np.cos(2*r)*r]).T\n",
    "xTr2 = np.array([np.sin(2.*r+np.pi)*r, np.cos(2*r+np.pi)*r]).T\n",
    "xTr = np.concatenate([xTr1, xTr2], axis=0)\n",
    "yTr = np.concatenate([np.ones(N), -1 * np.ones(N)])\n",
    "xTr = xTr + np.random.randn(xTr.shape[0], xTr.shape[1])*0.2\n",
    "\n",
    "xTe = xTr[::2,:]"
   ]
  },
  {
   "cell_type": "code",
   "execution_count": 49,
   "id": "78026a8b",
   "metadata": {},
   "outputs": [],
   "source": [
    "x = np.arange(10).reshape(2,5)"
   ]
  },
  {
   "cell_type": "code",
   "execution_count": 50,
   "id": "3627ff72",
   "metadata": {},
   "outputs": [
    {
     "data": {
      "text/plain": [
       "array([[0, 1, 2, 3, 4],\n",
       "       [5, 6, 7, 8, 9]])"
      ]
     },
     "execution_count": 50,
     "metadata": {},
     "output_type": "execute_result"
    }
   ],
   "source": [
    "x"
   ]
  },
  {
   "cell_type": "code",
   "execution_count": 51,
   "id": "fb6e047f",
   "metadata": {},
   "outputs": [
    {
     "data": {
      "text/plain": [
       "array([[5, 6, 7, 8, 9]])"
      ]
     },
     "execution_count": 51,
     "metadata": {},
     "output_type": "execute_result"
    }
   ],
   "source": [
    "x[x[:,2]>5]"
   ]
  },
  {
   "cell_type": "code",
   "execution_count": null,
   "id": "acd8ad71",
   "metadata": {},
   "outputs": [],
   "source": []
  }
 ],
 "metadata": {
  "kernelspec": {
   "display_name": "Python 3 (ipykernel)",
   "language": "python",
   "name": "python3"
  },
  "language_info": {
   "codemirror_mode": {
    "name": "ipython",
    "version": 3
   },
   "file_extension": ".py",
   "mimetype": "text/x-python",
   "name": "python",
   "nbconvert_exporter": "python",
   "pygments_lexer": "ipython3",
   "version": "3.8.12"
  }
 },
 "nbformat": 4,
 "nbformat_minor": 5
}
