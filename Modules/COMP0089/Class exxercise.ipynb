{
 "cells": [
  {
   "cell_type": "code",
   "execution_count": 1,
   "id": "989e4ff8",
   "metadata": {},
   "outputs": [],
   "source": [
    "import numpy as np"
   ]
  },
  {
   "cell_type": "code",
   "execution_count": 50,
   "id": "62e06bd5",
   "metadata": {},
   "outputs": [],
   "source": [
    "# initial params\n",
    "I = np.eye(3)\n",
    "gamma = 0.9\n",
    "P_pi = np.array([[0.1, 0, 0.9],\n",
    "                 [0.9, 0.1, 0],\n",
    "                 [0.9, 0, 0.1]])\n",
    "r_pi = np.array([-0.9,-0.1,-0.1])"
   ]
  },
  {
   "cell_type": "code",
   "execution_count": 51,
   "id": "b0d7fedd",
   "metadata": {},
   "outputs": [
    {
     "data": {
      "text/plain": [
       "array([-5.23255814, -4.76744186, -4.76744186])"
      ]
     },
     "execution_count": 51,
     "metadata": {},
     "output_type": "execute_result"
    }
   ],
   "source": [
    "v = np.linalg.inv(I-gamma*P_pi) @ r_pi\n",
    "v"
   ]
  },
  {
   "cell_type": "code",
   "execution_count": 52,
   "id": "d34bc87f",
   "metadata": {},
   "outputs": [],
   "source": [
    "# initial params\n",
    "I = np.eye(3)\n",
    "gamma = 0.9\n",
    "# 2 actions reprensented by 2 matrices\n",
    "\n",
    "P_a1 = np.array([[0.1, 0, 0.9],\n",
    "                 [0.9, 0.1, 0],\n",
    "                 [0.9, 0, 0.1]])\n",
    "\n",
    "P_a2 = np.array([[0.1, 0.9, 0],\n",
    "                 [0.9, 0.1, 0],\n",
    "                 [0.9, 0, 0.1]])\n",
    "\n",
    "\n",
    "P_pi = (P_a1 + P_a2)/2\n",
    "\n",
    "\n",
    "r_a1 = np.array([-0.9,-0.1,-0.1])\n",
    "r_a2 = np.array([-0.9,-0.1,-0.1])\n",
    "\n",
    "r_pi = (r_a1 + r_a2)/2"
   ]
  },
  {
   "cell_type": "code",
   "execution_count": 53,
   "id": "ba37705e",
   "metadata": {},
   "outputs": [
    {
     "data": {
      "text/plain": [
       "array([-5.23255814, -4.76744186, -4.76744186])"
      ]
     },
     "execution_count": 53,
     "metadata": {},
     "output_type": "execute_result"
    }
   ],
   "source": [
    "v = np.linalg.inv(I-gamma*P_pi) @ r_pi\n",
    "v"
   ]
  },
  {
   "cell_type": "code",
   "execution_count": 54,
   "id": "0cf6fa18",
   "metadata": {},
   "outputs": [],
   "source": [
    "# by recursion \n",
    "v = np.zeros((3,))\n",
    "for k in range(1000):\n",
    "    v = r_pi + gamma*v"
   ]
  },
  {
   "cell_type": "code",
   "execution_count": 55,
   "id": "0539b56c",
   "metadata": {},
   "outputs": [
    {
     "data": {
      "text/plain": [
       "array([-9., -1., -1.])"
      ]
     },
     "execution_count": 55,
     "metadata": {},
     "output_type": "execute_result"
    }
   ],
   "source": [
    "v"
   ]
  },
  {
   "cell_type": "code",
   "execution_count": null,
   "id": "4d53cdfa",
   "metadata": {},
   "outputs": [],
   "source": []
  },
  {
   "cell_type": "code",
   "execution_count": null,
   "id": "fa8ca73c",
   "metadata": {},
   "outputs": [],
   "source": []
  }
 ],
 "metadata": {
  "kernelspec": {
   "display_name": "Python 3 (ipykernel)",
   "language": "python",
   "name": "python3"
  },
  "language_info": {
   "codemirror_mode": {
    "name": "ipython",
    "version": 3
   },
   "file_extension": ".py",
   "mimetype": "text/x-python",
   "name": "python",
   "nbconvert_exporter": "python",
   "pygments_lexer": "ipython3",
   "version": "3.8.12"
  }
 },
 "nbformat": 4,
 "nbformat_minor": 5
}
