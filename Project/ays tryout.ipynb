{
 "cells": [
  {
   "cell_type": "code",
   "execution_count": 1,
   "id": "e46aab3f",
   "metadata": {},
   "outputs": [
    {
     "name": "stdout",
     "output_type": "stream",
     "text": [
      "C:\\Users\\theod\\PycharmProjects\\Machine_Learning\\Project\\pyDRLinWESM\n"
     ]
    },
    {
     "data": {
      "text/plain": [
       "'C:\\\\Users\\\\theod\\\\PycharmProjects\\\\Machine_Learning\\\\Project\\\\pyDRLinWESM'"
      ]
     },
     "execution_count": 1,
     "metadata": {},
     "output_type": "execute_result"
    }
   ],
   "source": [
    "%cd pyDRLinWESM\n",
    "import os\n",
    "os.getcwd()"
   ]
  },
  {
   "cell_type": "code",
   "execution_count": 2,
   "id": "541d68f4",
   "metadata": {},
   "outputs": [],
   "source": [
    "import AYS.AYS_Environment as ays"
   ]
  },
  {
   "cell_type": "code",
   "execution_count": 3,
   "id": "d3c7acee",
   "metadata": {},
   "outputs": [
    {
     "name": "stdout",
     "output_type": "stream",
     "text": [
      "Init AYS Environment! \n",
      "Reward Type: PB \n",
      "Sustainability Boundaries [A_PB, Y_SF, S_ren]:  [3.45e+02 4.00e+13 0.00e+00]\n"
     ]
    }
   ],
   "source": [
    "env=ays.AYS_Environment(dt=1, reward_type='PB')"
   ]
  },
  {
   "cell_type": "code",
   "execution_count": 4,
   "id": "f8a01434",
   "metadata": {},
   "outputs": [],
   "source": [
    "from classes.Learning.agents import agent, ReplayBuffer"
   ]
  },
  {
   "cell_type": "code",
   "execution_count": 5,
   "id": "3f8019d3",
   "metadata": {},
   "outputs": [],
   "source": [
    "from tqdm import tqdm\n",
    "import numpy as np\n",
    "from IPython.display import clear_output\n",
    "import matplotlib.pyplot as plt\n",
    "\n",
    "def plot(frame_idx, rewards):\n",
    "    \n",
    "    clear_output(True)\n",
    "    plt.figure(figsize=(20,5))\n",
    "    plt.subplot(131)\n",
    "    plt.title('frame %s. reward: %s' % (frame_idx, rewards[-1]))\n",
    "    plt.plot(rewards)\n",
    "    plt.show()"
   ]
  },
  {
   "cell_type": "code",
   "execution_count": 6,
   "id": "aa1cd7ad",
   "metadata": {
    "scrolled": true
   },
   "outputs": [],
   "source": [
    "action_dim = 4\n",
    "state_dim = 3\n",
    "\n",
    "dqn = agent(state_dim, action_dim)\n",
    "memory = ReplayBuffer(1000000)"
   ]
  },
  {
   "cell_type": "code",
   "execution_count": 9,
   "id": "9330ca2c",
   "metadata": {},
   "outputs": [],
   "source": [
    "BATCH_SIZE = 128\n",
    "TARGET_UPDATE = 100\n",
    "MAX_EPISODES = 5000\n",
    "MAX_STEPS = 1000\n",
    "TAU = 0.001"
   ]
  },
  {
   "cell_type": "code",
   "execution_count": null,
   "id": "b7af4a6b",
   "metadata": {},
   "outputs": [
    {
     "data": {
      "image/png": "[encoded data removed]",
      "text/plain": [
       "<Figure size 1440x360 with 1 Axes>"
      ]
     },
     "metadata": {
      "needs_background": "light"
     },
     "output_type": "display_data"
    },
    {
     "name": "stderr",
     "output_type": "stream",
     "text": [
      "\r",
      " 52%|██████████████████████████████████████████████████████████████████████▊                                                                 | 2603/5000 [42:55<43:58,  1.10s/it]"
     ]
    },
    {
     "name": "stdout",
     "output_type": "stream",
     "text": [
      "\n",
      " ep_length:  173.62\n",
      "\n",
      " actions:  [2, 2, 2, 2, 2, 2, 2, 2, 2, 2, 2, 2, 2, 2, 2, 2, 2, 3, 3, 3, 3, 3, 3, 3, 3, 3, 3, 3, 3, 3, 2, 2, 3, 3, 3, 3, 3, 3, 3, 3, 3, 2, 2, 2, 2, 2, 2, 2, 2, 2, 2, 2, 2, 2, 3, 3, 3, 3, 3, 3, 3, 3, 2, 2, 2, 2, 2, 2, 2, 2, 2, 2, 2, 2, 2, 2, 2, 2, 2, 2, 2, 2, 2, 2, 2, 2, 2, 2, 2, 3, 3, 3, 3, 2, 2, 2, 2, 2, 2, 2, 2, 2, 3, 0, 0, 0, 0, 0, 0, 2, 2, 1, 1, 1, 1, 3, 3, 3, 3, 3, 3, 3, 3, 3, 3, 3, 3, 3, 3, 3, 3, 3, 1, 1, 1, 1, 3, 3, 3, 3, 3, 0, 0, 0, 0, 0, 0, 0, 3, 3, 3, 3, 3, 1, 1, 3, 3, 3, 3, 3, 2, 3, 1, 3, 3, 3, 3, 3, 3, 0, 0, 0, 0, 2, 2, 2, 2, 1, 1, 1, 1, 1, 1, 1, 1, 1, 2, 2, 2, 2, 2, 2, 2, 3, 3, 3, 3, 3, 3, 0, 0, 0, 0, 0, 0, 0, 1, 1, 1, 3, 3, 3, 2, 2, 2, 2, 2, 2, 0, 0, 0, 0, 1, 1, 1, 1, 1, 2, 2, 2, 2, 2, 0, 0, 0, 0, 0, 0, 0, 0, 0, 0, 2, 3, 3, 3, 3, 3, 3, 0, 0, 1, 1, 1, 0, 0, 0, 0, 0, 0, 0, 2, 2, 3, 3, 2, 2, 1, 1, 1, 1, 1, 1, 1, 0, 0, 0, 0, 0, 0, 2, 3, 3, 3, 3, 3, 1, 1, 1, 1, 1, 1, 1, 1, 2, 2, 2, 0, 3, 3, 3, 3, 3, 3, 1, 1, 1, 1, 1, 3, 1, 1, 1, 2, 2, 2, 3, 3, 3, 3, 3, 3, 0, 1, 1, 1, 1, 1, 1, 2]\n"
     ]
    }
   ],
   "source": [
    "rewards = []\n",
    "mean_rewards = []\n",
    "frame_idx = 0\n",
    "ep_len = []\n",
    "actions = np.zeros(action_dim)\n",
    "\n",
    "for episodes in tqdm(range(MAX_EPISODES)):\n",
    "    state = env.reset()\n",
    "    episode_reward = 0\n",
    "    trajectory = []\n",
    "    for steps in range(MAX_STEPS):\n",
    "        if episodes>1000:\n",
    "            action = (dqn.get_action(state))\n",
    "        else:\n",
    "            action = np.random.choice(action_dim)\n",
    "            \n",
    "        next_state, reward, done, = env.step(action)\n",
    "        \n",
    "        episode_reward += reward\n",
    "        \n",
    "        memory.push(state, action, reward, next_state, done)\n",
    "        \n",
    "        state = next_state\n",
    "        \n",
    "        frame_idx += 1 \n",
    "        actions[action] += 1\n",
    "        trajectory.append(int(action))\n",
    "        \n",
    "        if memory.__len__() > BATCH_SIZE:\n",
    "            sample = memory.sample(BATCH_SIZE)\n",
    "            dqn.update(sample)\n",
    "        if done:\n",
    "            break\n",
    "            \n",
    "    ep_len.append(steps)       \n",
    "    rewards.append(episode_reward)\n",
    "    mean_rewards.append(np.mean(rewards[-50:]))\n",
    "#     if episodes % TARGET_UPDATE == 0:\n",
    "#         dqn.target_net.load_state_dict(dqn.policy_net.state_dict()) \n",
    "        \n",
    "    if frame_idx % 100:\n",
    "        plot(frame_idx, mean_rewards)\n",
    "        if frame_idx%1000:\n",
    "            print('\\n ep_length: ',np.mean(ep_len[-50:]))\n",
    "            print('\\n actions: ', trajectory)"
   ]
  },
  {
   "cell_type": "code",
   "execution_count": null,
   "id": "60e0cd92",
   "metadata": {},
   "outputs": [],
   "source": []
  }
 ],
 "metadata": {
  "kernelspec": {
   "display_name": "Python 3 (ipykernel)",
   "language": "python",
   "name": "python3"
  },
  "language_info": {
   "codemirror_mode": {
    "name": "ipython",
    "version": 3
   },
   "file_extension": ".py",
   "mimetype": "text/x-python",
   "name": "python",
   "nbconvert_exporter": "python",
   "pygments_lexer": "ipython3",
   "version": "3.8.12"
  }
 },
 "nbformat": 4,
 "nbformat_minor": 5
}
