{
 "cells": [
  {
   "cell_type": "code",
   "execution_count": 30,
   "id": "cf5baac2",
   "metadata": {
    "scrolled": true
   },
   "outputs": [
    {
     "data": {
      "text/plain": [
       "device(type='cuda')"
      ]
     },
     "execution_count": 30,
     "metadata": {},
     "output_type": "execute_result"
    }
   ],
   "source": [
    "import numpy as np\n",
    "import torch\n",
    "import torch.nn as nn\n",
    "from torch.utils.data import Dataset, DataLoader\n",
    "import itertools\n",
    "from tqdm import tqdm\n",
    "import time\n",
    "import gym\n",
    "import random\n",
    "import matplotlib.pyplot as plt\n",
    "from IPython.display import clear_output\n",
    "device = torch.device('cuda' if torch.cuda.is_available() else 'cpu')\n",
    "#from cG_LAGTPKS_Environment import cG_LAGTPKS_Environment\n",
    "device"
   ]
  },
  {
   "cell_type": "code",
   "execution_count": 31,
   "id": "949cb265",
   "metadata": {},
   "outputs": [
    {
     "data": {
      "text/plain": [
       "'C:\\\\Users\\\\theod\\\\PycharmProjects\\\\Machine_Learning\\\\Project\\\\pyDRLinWESM\\\\AYS'"
      ]
     },
     "execution_count": 31,
     "metadata": {},
     "output_type": "execute_result"
    }
   ],
   "source": [
    "pwd"
   ]
  },
  {
   "cell_type": "code",
   "execution_count": 28,
   "id": "e4217dac",
   "metadata": {},
   "outputs": [
    {
     "ename": "ModuleNotFoundError",
     "evalue": "No module named 'plots'",
     "output_type": "error",
     "traceback": [
      "\u001b[1;31m---------------------------------------------------------------------------\u001b[0m",
      "\u001b[1;31mModuleNotFoundError\u001b[0m                       Traceback (most recent call last)",
      "\u001b[1;32m~\\AppData\\Local\\Temp/ipykernel_11996/4286012468.py\u001b[0m in \u001b[0;36m<module>\u001b[1;34m\u001b[0m\n\u001b[0;32m      1\u001b[0m \u001b[1;31m#%cd ../\u001b[0m\u001b[1;33m\u001b[0m\u001b[1;33m\u001b[0m\u001b[1;33m\u001b[0m\u001b[0m\n\u001b[0;32m      2\u001b[0m \u001b[1;31m#%cd Project/pyDRLinWESM/AYS\u001b[0m\u001b[1;33m\u001b[0m\u001b[1;33m\u001b[0m\u001b[1;33m\u001b[0m\u001b[0m\n\u001b[1;32m----> 3\u001b[1;33m \u001b[1;32mfrom\u001b[0m \u001b[0mAYS_Environment\u001b[0m \u001b[1;32mimport\u001b[0m \u001b[0mAYS_Environment\u001b[0m\u001b[1;33m\u001b[0m\u001b[1;33m\u001b[0m\u001b[0m\n\u001b[0m",
      "\u001b[1;32m~\\PycharmProjects\\Machine_Learning\\Project\\pyDRLinWESM\\AYS\\AYS_Environment.py\u001b[0m in \u001b[0;36m<module>\u001b[1;34m\u001b[0m\n\u001b[0;32m     24\u001b[0m \u001b[1;32mfrom\u001b[0m \u001b[0mmatplotlib\u001b[0m\u001b[1;33m.\u001b[0m\u001b[0mfont_manager\u001b[0m \u001b[1;32mimport\u001b[0m \u001b[0mFontProperties\u001b[0m\u001b[1;33m\u001b[0m\u001b[1;33m\u001b[0m\u001b[0m\n\u001b[0;32m     25\u001b[0m \u001b[1;32mfrom\u001b[0m \u001b[0mmatplotlib\u001b[0m\u001b[1;33m.\u001b[0m\u001b[0moffsetbox\u001b[0m \u001b[1;32mimport\u001b[0m \u001b[0mAnchoredText\u001b[0m\u001b[1;33m\u001b[0m\u001b[1;33m\u001b[0m\u001b[0m\n\u001b[1;32m---> 26\u001b[1;33m \u001b[1;32mfrom\u001b[0m \u001b[0mplots\u001b[0m\u001b[1;33m.\u001b[0m\u001b[0mAYS_3D_figures\u001b[0m \u001b[1;32mimport\u001b[0m \u001b[0mcreate_figure\u001b[0m\u001b[1;33m\u001b[0m\u001b[1;33m\u001b[0m\u001b[0m\n\u001b[0m\u001b[0;32m     27\u001b[0m \u001b[1;32mimport\u001b[0m \u001b[0mplots\u001b[0m\u001b[1;33m.\u001b[0m\u001b[0mAYS_3D_figures\u001b[0m \u001b[1;32mas\u001b[0m \u001b[0mays_plot\u001b[0m\u001b[1;33m\u001b[0m\u001b[1;33m\u001b[0m\u001b[0m\n\u001b[0;32m     28\u001b[0m \u001b[1;32mimport\u001b[0m \u001b[0mos\u001b[0m\u001b[1;33m\u001b[0m\u001b[1;33m\u001b[0m\u001b[0m\n",
      "\u001b[1;31mModuleNotFoundError\u001b[0m: No module named 'plots'"
     ]
    }
   ],
   "source": [
    "\n",
    "#%cd ../\n",
    "#%cd Project/pyDRLinWESM/AYS\n",
    "from AYS_Environment import AYS_Environment"
   ]
  },
  {
   "cell_type": "code",
   "execution_count": 2,
   "id": "d9cf9125",
   "metadata": {},
   "outputs": [],
   "source": [
    "def plot(frame_idx, rewards):\n",
    "    \n",
    "    clear_output(True)\n",
    "    plt.figure(figsize=(20,5))\n",
    "    plt.subplot(131)\n",
    "    plt.title('frame %s. reward: %s' % (frame_idx, rewards[-1]))\n",
    "    plt.plot(rewards)\n",
    "    plt.show()"
   ]
  },
  {
   "cell_type": "code",
   "execution_count": 3,
   "id": "ef2c3f12",
   "metadata": {},
   "outputs": [],
   "source": [
    "class network(nn.Module):\n",
    "    def __init__(self, state_dim, action_dim, hidden_dim=256):\n",
    "        super().__init__()\n",
    "        \n",
    "        self.layer = nn.Sequential(nn.Linear(state_dim, hidden_dim), nn.ReLU(), \n",
    "                                    nn.Linear(hidden_dim, hidden_dim), nn.ReLU(),\n",
    "                                    nn.Linear(hidden_dim, hidden_dim), nn.ReLU(),\n",
    "                                    nn.Linear(hidden_dim, hidden_dim), nn.ReLU(),\n",
    "                                   )\n",
    "        \n",
    "        self.q = nn.Linear(hidden_dim, action_dim)\n",
    "        \n",
    "    def forward(self, obs):\n",
    "        l = self.layer(obs)\n",
    "        q_values = self.q(l)\n",
    "        \n",
    "        return q_values"
   ]
  },
  {
   "cell_type": "code",
   "execution_count": 4,
   "id": "8a9b56b1",
   "metadata": {},
   "outputs": [],
   "source": [
    "class Duelling_network(nn.Module):\n",
    "    def __init__(self, state_dim, action_dim, hidden_dim=256):\n",
    "        super().__init__()\n",
    "        \n",
    "        self.layer = nn.Sequential(nn.Linear(state_dim, hidden_dim), nn.ReLU(), \n",
    "                                    nn.Linear(hidden_dim, hidden_dim), nn.ReLU(),\n",
    "                                    nn.Linear(hidden_dim, hidden_dim), nn.ReLU(),\n",
    "                                    nn.Linear(hidden_dim, hidden_dim), nn.ReLU(),\n",
    "                                   )\n",
    "        \n",
    "        self.a = nn.Linear(hidden_dim, action_dim)\n",
    "        self.v = nn.Linear(hidden_dim, 1)\n",
    "        \n",
    "    def forward(self, obs):\n",
    "        l = self.layer(obs)\n",
    "        advantages = self.a(l)\n",
    "        value = self.v(l)\n",
    "        \n",
    "        q_values = value + (advantages - advantages.mean())\n",
    "        return q_values"
   ]
  },
  {
   "cell_type": "code",
   "execution_count": 5,
   "id": "97b5a98d",
   "metadata": {},
   "outputs": [],
   "source": [
    "class ReplayBuffer:\n",
    "    def __init__(self, capacity):\n",
    "        self.capacity = capacity\n",
    "        self.buffer = []\n",
    "        self.position = 0\n",
    "    \n",
    "    def push(self, state, action, reward, next_state, done):\n",
    "        if len(self.buffer) < self.capacity:\n",
    "            self.buffer.append(None)\n",
    "        self.buffer[self.position] = (state, action, reward, next_state, done)\n",
    "        self.position = (self.position + 1) % self.capacity\n",
    "    \n",
    "    def sample(self, batch_size):\n",
    "        batch = random.sample(self.buffer, batch_size)\n",
    "        state, action, reward, next_state, done = map(np.stack, zip(*batch))\n",
    "        return state, action, reward, next_state, done\n",
    "    \n",
    "    def __len__(self):\n",
    "        return len(self.buffer)"
   ]
  },
  {
   "cell_type": "code",
   "execution_count": 6,
   "id": "b280724b",
   "metadata": {},
   "outputs": [],
   "source": [
    "class agent:\n",
    "    def __init__(self, state_dim, action_dim, epsilon=0.1, alpha=0.0025):\n",
    "        \n",
    "        self.target_net = self.create_net(state_dim, action_dim).to(device)\n",
    "        self.policy_net = self.create_net(state_dim, action_dim).to(device)\n",
    "        \n",
    "        self.optimizer = torch.optim.Adam(self.policy_net.parameters(), lr=alpha)\n",
    "        self.action_size = action_dim\n",
    "        self.gamma = 0.96\n",
    "        self.loss = nn.SmoothL1Loss()\n",
    "        self.t = 1\n",
    "        self.epsilon = lambda t: 0.001 + (10-0.01) * np.exp(-0.001* t)\n",
    "        \n",
    "    def create_net(self,s_dim, a_dim, duelling=True):\n",
    "        if duelling:\n",
    "            net = Duelling_network(s_dim, a_dim)\n",
    "        else:\n",
    "            net = network(s_dim, a_dim)\n",
    "        return net\n",
    "    \n",
    "    def get_action(self, state):\n",
    "        self.t += 1 \n",
    "        if np.random.uniform() > self.epsilon(self.t):\n",
    "            with torch.no_grad():\n",
    "                actions = self.policy_net(torch.Tensor(state).to(device)).cpu().numpy()\n",
    "            return np.argmax(actions)\n",
    "        else:\n",
    "            return torch.tensor(np.random.choice(self.action_size)).numpy()\n",
    "    \n",
    "    def update(self, batch_sample):\n",
    "        \n",
    "        state, action, reward, next_state, done = batch_sample\n",
    "        states = torch.Tensor(state).to(device)\n",
    "        \n",
    "        actions = torch.tensor(action, dtype=torch.long).unsqueeze(1).to(device)\n",
    "        \n",
    "        state_qs = self.policy_net(states).gather(1, actions)\n",
    "        \n",
    "        non_final_states = torch.Tensor(next_state).to(device)\n",
    "        \n",
    "        next_state_values = self.target_net(non_final_states).max(1)[0].detach()\n",
    "        next_state_values[done] = 0\n",
    "        \n",
    "        expected_qs = next_state_values * self.gamma + torch.Tensor(reward).to(device)\n",
    "        \n",
    "        loss = self.loss(state_qs,  expected_qs.unsqueeze(1))\n",
    "        \n",
    "        self.optimizer.zero_grad()\n",
    "        loss.backward()\n",
    "#         for param in self.policy_net.parameters():\n",
    "#             param.grad.data.clamp_(-1, 1)\n",
    "        self.optimizer.step()\n",
    "    \n",
    "        for target_param, param in zip(self.target_net.parameters(), self.policy_net.parameters()):\n",
    "            target_param.data.copy_(TAU * param + (1 - TAU) * target_param)"
   ]
  },
  {
   "cell_type": "code",
   "execution_count": 7,
   "id": "a6f06495",
   "metadata": {},
   "outputs": [],
   "source": [
    "BATCH_SIZE = 256\n",
    "TARGET_UPDATE = 200\n",
    "MAX_EPISODES = 6000\n",
    "MAX_STEPS = 10000\n",
    "TAU = 0.001"
   ]
  },
  {
   "cell_type": "code",
   "execution_count": 8,
   "id": "ca415fa2",
   "metadata": {},
   "outputs": [
    {
     "name": "stdout",
     "output_type": "stream",
     "text": [
      "Initialized c:GLOBAL environment! \n",
      "Reward type: PB \n",
      "Planetary Boundaries are: [9.45000000e+02 1.84037318e+04 1.00000000e+06] \n",
      "Initial LAGTPKS-values are: [7.58000000e+02 1.85877692e+04 6.00000000e+09] \n",
      "Initial derived values are: Wini:18587.769150620836Yini: 148702153204966.7\n"
     ]
    }
   ],
   "source": [
    "env = cG_LAGTPKS_Environment(reward_type='PB')\n",
    "memory = ReplayBuffer(1000000)\n",
    "action_dim = 8\n",
    "state_dim  = 7"
   ]
  },
  {
   "cell_type": "code",
   "execution_count": 9,
   "id": "342a24e9",
   "metadata": {},
   "outputs": [],
   "source": [
    "# env = gym.make('MountainCar-v0')\n",
    "\n",
    "# memory = ReplayBuffer(1000000)\n",
    "# action_dim = env.action_space.n\n",
    "# state_dim  = env.observation_space.shape[0]"
   ]
  },
  {
   "cell_type": "code",
   "execution_count": 10,
   "id": "fbede450",
   "metadata": {},
   "outputs": [
    {
     "data": {
      "image/png": "[encoded data removed]",
      "text/plain": [
       "<Figure size 1440x360 with 1 Axes>"
      ]
     },
     "metadata": {
      "needs_background": "light"
     },
     "output_type": "display_data"
    },
    {
     "name": "stderr",
     "output_type": "stream",
     "text": [
      "100%|████████████████████████████████████████████████████████████████████████████████████████████████████████████████████████████████████████| 6000/6000 [30:47<00:00,  3.99it/s]"
     ]
    },
    {
     "name": "stdout",
     "output_type": "stream",
     "text": [
      "\n",
      " ep_length:  19.92\n",
      "\n",
      " actions:  [ 3681.  3710. 31979.  3692. 25601.  3661. 25600. 26858.]\n"
     ]
    },
    {
     "name": "stderr",
     "output_type": "stream",
     "text": [
      "100%|████████████████████████████████████████████████████████████████████████████████████████████████████████████████████████████████████████| 6000/6000 [30:47<00:00,  3.25it/s]\n"
     ]
    }
   ],
   "source": [
    "dqn = agent(state_dim, action_dim)\n",
    "rewards = []\n",
    "mean_rewards = []\n",
    "frame_idx = 0\n",
    "ep_len = []\n",
    "actions = np.zeros(8)\n",
    "\n",
    "for episodes in tqdm(range(MAX_EPISODES)):\n",
    "    state = env.reset()\n",
    "    episode_reward = 0\n",
    "    \n",
    "    for steps in range(MAX_STEPS):\n",
    "        if episodes>1000:\n",
    "            action = (dqn.get_action(state))\n",
    "        else:\n",
    "            action = np.random.choice(action_dim)\n",
    "            \n",
    "        next_state, reward, done, = env.step(action)\n",
    "        \n",
    "        episode_reward += reward\n",
    "        \n",
    "        memory.push(state, action, reward, next_state, done)\n",
    "        \n",
    "        state = next_state\n",
    "        \n",
    "        frame_idx += 1 \n",
    "        actions[action] += 1\n",
    "        \n",
    "        if memory.__len__() > BATCH_SIZE:\n",
    "            sample = memory.sample(BATCH_SIZE)\n",
    "            dqn.update(sample)\n",
    "        if done:\n",
    "            break\n",
    "            \n",
    "    ep_len.append(steps)       \n",
    "    rewards.append(episode_reward)\n",
    "    mean_rewards.append(np.mean(rewards[-50:]))\n",
    "#     if episodes % TARGET_UPDATE == 0:\n",
    "#         dqn.target_net.load_state_dict(dqn.policy_net.state_dict()) \n",
    "        \n",
    "    if frame_idx % 100:\n",
    "        plot(frame_idx, mean_rewards)\n",
    "        print('\\n ep_length: ',np.mean(ep_len[-50:]))\n",
    "        print('\\n actions: ', actions)\n",
    "        "
   ]
  },
  {
   "cell_type": "code",
   "execution_count": null,
   "id": "2c606642",
   "metadata": {},
   "outputs": [],
   "source": []
  }
 ],
 "metadata": {
  "kernelspec": {
   "display_name": "Python 3 (ipykernel)",
   "language": "python",
   "name": "python3"
  },
  "language_info": {
   "codemirror_mode": {
    "name": "ipython",
    "version": 3
   },
   "file_extension": ".py",
   "mimetype": "text/x-python",
   "name": "python",
   "nbconvert_exporter": "python",
   "pygments_lexer": "ipython3",
   "version": "3.8.12"
  }
 },
 "nbformat": 4,
 "nbformat_minor": 5
}
